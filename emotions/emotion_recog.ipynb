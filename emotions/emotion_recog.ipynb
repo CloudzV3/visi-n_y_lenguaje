{
 "cells": [
  {
   "cell_type": "code",
   "execution_count": 2,
   "id": "c3c4e008-25bb-46c6-8d99-d37a898ddb51",
   "metadata": {},
   "outputs": [],
   "source": [
    "from keras.utils import to_categorical\n",
    "from keras.preprocessing.image import load_img\n",
    "from keras.models import Sequential\n",
    "from keras.layers import Dense, Conv2D, Dropout, Flatten, MaxPooling2D\n",
    "import os\n",
    "import pandas as pd\n",
    "import numpy as np"
   ]
  },
  {
   "cell_type": "code",
   "execution_count": 3,
   "id": "a183722a-7ad0-4afa-9fab-4741739dd401",
   "metadata": {},
   "outputs": [],
   "source": [
    "TRAIN_DIR = \"../../datasets/images/train/\"\n",
    "TEST_DIR = \"../../datasets/images/validation/\""
   ]
  },
  {
   "cell_type": "code",
   "execution_count": 4,
   "metadata": {},
   "outputs": [],
   "source": [
    "def createdataframe(dir):\n",
    "    image_paths = []\n",
    "    labels = []\n",
    "    for label in os.listdir(dir):\n",
    "        for imagename in os.listdir(os.path.join(dir,label)):\n",
    "            image_paths.append(os.path.join(dir,label,imagename))\n",
    "            labels.append(label)\n",
    "        print(label, \"completed\")\n",
    "    return image_paths,labels"
   ]
  },
  {
   "cell_type": "code",
   "execution_count": 5,
   "metadata": {},
   "outputs": [
    {
     "name": "stdout",
     "output_type": "stream",
     "text": [
      "angry completed\n",
      "disgust completed\n",
      "fear completed\n",
      "happy completed\n",
      "neutral completed\n",
      "sad completed\n",
      "surprise completed\n"
     ]
    }
   ],
   "source": [
    "train = pd.DataFrame()\n",
    "train['image'], train['label'] = createdataframe(TRAIN_DIR)"
   ]
  },
  {
   "cell_type": "code",
   "execution_count": 6,
   "metadata": {},
   "outputs": [
    {
     "name": "stdout",
     "output_type": "stream",
     "text": [
      "                                               image     label\n",
      "0            ../../datasets/images/train/angry\\0.jpg     angry\n",
      "1            ../../datasets/images/train/angry\\1.jpg     angry\n",
      "2           ../../datasets/images/train/angry\\10.jpg     angry\n",
      "3        ../../datasets/images/train/angry\\10002.jpg     angry\n",
      "4        ../../datasets/images/train/angry\\10016.jpg     angry\n",
      "...                                              ...       ...\n",
      "28816  ../../datasets/images/train/surprise\\9969.jpg  surprise\n",
      "28817  ../../datasets/images/train/surprise\\9985.jpg  surprise\n",
      "28818  ../../datasets/images/train/surprise\\9990.jpg  surprise\n",
      "28819  ../../datasets/images/train/surprise\\9992.jpg  surprise\n",
      "28820  ../../datasets/images/train/surprise\\9996.jpg  surprise\n",
      "\n",
      "[28821 rows x 2 columns]\n"
     ]
    }
   ],
   "source": [
    "print(train)"
   ]
  },
  {
   "cell_type": "code",
   "execution_count": 7,
   "metadata": {},
   "outputs": [
    {
     "name": "stdout",
     "output_type": "stream",
     "text": [
      "angry completed\n",
      "disgust completed\n",
      "fear completed\n",
      "happy completed\n",
      "neutral completed\n",
      "sad completed\n",
      "surprise completed\n"
     ]
    }
   ],
   "source": [
    "test = pd.DataFrame()\n",
    "test['image'], test['label'] = createdataframe(TEST_DIR)"
   ]
  },
  {
   "cell_type": "code",
   "execution_count": 8,
   "metadata": {},
   "outputs": [
    {
     "name": "stdout",
     "output_type": "stream",
     "text": [
      "                                                  image     label\n",
      "0      ../../datasets/images/validation/angry\\10052.jpg     angry\n",
      "1      ../../datasets/images/validation/angry\\10065.jpg     angry\n",
      "2      ../../datasets/images/validation/angry\\10079.jpg     angry\n",
      "3      ../../datasets/images/validation/angry\\10095.jpg     angry\n",
      "4      ../../datasets/images/validation/angry\\10121.jpg     angry\n",
      "...                                                 ...       ...\n",
      "7061  ../../datasets/images/validation/surprise\\9806...  surprise\n",
      "7062  ../../datasets/images/validation/surprise\\9830...  surprise\n",
      "7063  ../../datasets/images/validation/surprise\\9853...  surprise\n",
      "7064  ../../datasets/images/validation/surprise\\9878...  surprise\n",
      "7065  ../../datasets/images/validation/surprise\\993.jpg  surprise\n",
      "\n",
      "[7066 rows x 2 columns]\n",
      "0        ../../datasets/images/validation/angry\\10052.jpg\n",
      "1        ../../datasets/images/validation/angry\\10065.jpg\n",
      "2        ../../datasets/images/validation/angry\\10079.jpg\n",
      "3        ../../datasets/images/validation/angry\\10095.jpg\n",
      "4        ../../datasets/images/validation/angry\\10121.jpg\n",
      "                              ...                        \n",
      "7061    ../../datasets/images/validation/surprise\\9806...\n",
      "7062    ../../datasets/images/validation/surprise\\9830...\n",
      "7063    ../../datasets/images/validation/surprise\\9853...\n",
      "7064    ../../datasets/images/validation/surprise\\9878...\n",
      "7065    ../../datasets/images/validation/surprise\\993.jpg\n",
      "Name: image, Length: 7066, dtype: object\n"
     ]
    }
   ],
   "source": [
    "print(test)\n",
    "print(test['image'])"
   ]
  },
  {
   "cell_type": "code",
   "execution_count": 9,
   "metadata": {},
   "outputs": [],
   "source": [
    "from tqdm.notebook import tqdm\n"
   ]
  },
  {
   "cell_type": "code",
   "execution_count": 10,
   "metadata": {},
   "outputs": [],
   "source": [
    "def extract_features(images):\n",
    "    features = []\n",
    "    for image in tqdm(images):\n",
    "        img = load_img(image,grayscale =  True )\n",
    "        img = np.array(img)\n",
    "        features.append(img)\n",
    "    features = np.array(features)\n",
    "    features = features.reshape(len(features),48,48,1)\n",
    "    return features"
   ]
  },
  {
   "cell_type": "code",
   "execution_count": 11,
   "metadata": {},
   "outputs": [
    {
     "data": {
      "application/vnd.jupyter.widget-view+json": {
       "model_id": "28b9036c5fa246e492e09e15523f00df",
       "version_major": 2,
       "version_minor": 0
      },
      "text/plain": [
       "  0%|          | 0/28821 [00:00<?, ?it/s]"
      ]
     },
     "metadata": {},
     "output_type": "display_data"
    },
    {
     "name": "stderr",
     "output_type": "stream",
     "text": [
      "c:\\Users\\Marr\\AppData\\Local\\Programs\\Python\\Python311\\Lib\\site-packages\\keras\\src\\utils\\image_utils.py:409: UserWarning: grayscale is deprecated. Please use color_mode = \"grayscale\"\n",
      "  warnings.warn(\n"
     ]
    }
   ],
   "source": [
    "train_features = extract_features(train['image'])"
   ]
  }
 ],
 "metadata": {
  "kernelspec": {
   "display_name": "Python 3 (ipykernel)",
   "language": "python",
   "name": "python3"
  },
  "language_info": {
   "codemirror_mode": {
    "name": "ipython",
    "version": 3
   },
   "file_extension": ".py",
   "mimetype": "text/x-python",
   "name": "python",
   "nbconvert_exporter": "python",
   "pygments_lexer": "ipython3",
   "version": "3.11.4"
  }
 },
 "nbformat": 4,
 "nbformat_minor": 5
}
